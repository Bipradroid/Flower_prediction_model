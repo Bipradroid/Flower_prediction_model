import numpy as np
import tensorflow as tf
from tensorflow import keras
from tensorflow.keras.preprocessing.image import load_img, ImageDataGenerator
from tensorflow.keras.models import Sequential,load_model
from tensorflow.keras import layers
from tensorflow.keras.layers import Flatten,Dense,MaxPooling2D,Conv2D,Dropout
import os


dirs=os.listdir('flower_images/')
for dir in dirs:
    files=list(os.listdir('flower_images/'+dir))
    print(dir+' has '+str(len(files))+' images')
    


direc='flower_images/'
class_names = ['Lilly ', 'Lotus', 'orchid', 'Sunflower', 'Tulip']
train_ds=tf.keras.utils.image_dataset_from_directory(
    directory=direc,
    seed=123,
    validation_split=0.2,
    batch_size=32,
    image_size=(180,180),
    subset='training'
    
)
val_ds=tf.keras.utils.image_dataset_from_directory(
    directory=direc,
    seed=123,
    validation_split=0.2,
    batch_size=32,
    image_size=(180,180),
    subset='validation'
    
)



class_names = ['Lilly ', 'Lotus', 'orchid', 'Sunflower', 'Tulip']
class_names


autotune=tf.data.AUTOTUNE
train_ds=train_ds.cache().shuffle(1000).prefetch(buffer_size=autotune)
val_ds=val_ds.cache().prefetch(buffer_size=autotune)


data_aug=Sequential([
    layers.RandomFlip("horizontal",input_shape=(180,180,3)),
    layers.RandomRotation(0.1),
    layers.RandomZoom(0.1,fill_mode="nearest"),
    
])


model=Sequential([
    data_aug,
    layers.Rescaling(1./255),
    Conv2D(16,3,padding='valid',activation='relu'),
    MaxPooling2D(),
    Conv2D(32,3,padding='valid',activation='relu'),
    MaxPooling2D(),
    Conv2D(64,3,padding='valid',activation='relu'),
    MaxPooling2D(),
    Dropout(0.2),
    Flatten(),
    Dense(128,activation='relu'),
    Dense(5)
])


model.compile(optimizer='Adam',
              loss=tf.keras.losses.SparseCategoricalCrossentropy(from_logits=True),
             metrics=['accuracy'])


model.summary()



history=model.fit(train_ds,epochs=25,validation_data=val_ds)


import sys
get_ipython().getoutput("{sys.executable} -m pip install opencv-python")


import cv2
import matplotlib.pyplot as plt
test_img=cv2.imread('photo-1597848212624-a19eb35e2651.jpeg')
plt.imshow(test_img)
# Define flower class names in the same order as your training labels




def call(input_image):
    input_image = tf.keras.utils.load_img(input_image, target_size=(180, 180))
    input_image_array = tf.keras.utils.img_to_array(input_image)
    input_image_exp_dim = tf.expand_dims(input_image_array, 0)
    predictions = model.predict(input_image_exp_dim)
    result = tf.nn.softmax(predictions[0])
    outcome= 'This image belongs to '+ class_names[np.argmax(result)]+ ' with a score of '+ str(np.max(result)*100)+'%'
    return outcome
    


call('photo-1597848212624-a19eb35e2651.jpeg')


model.save('flower_recognition_model.h5')



